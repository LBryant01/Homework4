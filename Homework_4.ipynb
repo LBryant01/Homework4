{
  "nbformat": 4,
  "nbformat_minor": 0,
  "metadata": {
    "colab": {
      "provenance": [],
      "authorship_tag": "ABX9TyP8yEYPZAhsNRnGzdRYGmz0",
      "include_colab_link": true
    },
    "kernelspec": {
      "name": "python3",
      "display_name": "Python 3"
    },
    "language_info": {
      "name": "python"
    }
  },
  "cells": [
    {
      "cell_type": "markdown",
      "metadata": {
        "id": "view-in-github",
        "colab_type": "text"
      },
      "source": [
        "<a href=\"https://colab.research.google.com/github/LBryant01/Homework4/blob/main/Homework_4.ipynb\" target=\"_parent\"><img src=\"https://colab.research.google.com/assets/colab-badge.svg\" alt=\"Open In Colab\"/></a>"
      ]
    },
    {
      "cell_type": "code",
      "source": [
        "#London Bryant\n",
        "#8 September 2024\n",
        "#CS4410\n",
        "\n",
        "from sklearn.datasets import load_breast_cancer\n",
        "breast_cancer = load_breast_cancer()\n",
        "X, y = breast_cancer.data, breast_cancer.target\n",
        "print(f\"Feature matrix shape: {X.shape}\")\n",
        "print(f\"Target vector shape: {y.shape}\")"
      ],
      "metadata": {
        "colab": {
          "base_uri": "https://localhost:8080/"
        },
        "id": "UrJOez92UoS3",
        "outputId": "e0343834-c8fa-4b62-e2b1-5d4c8c03ef7e"
      },
      "execution_count": 17,
      "outputs": [
        {
          "output_type": "stream",
          "name": "stdout",
          "text": [
            "Feature matrix shape: (569, 30)\n",
            "Target vector shape: (569,)\n"
          ]
        }
      ]
    },
    {
      "cell_type": "code",
      "source": [
        "from sklearn.model_selection import train_test_split\n",
        "X_train, X_test, y_train, y_test = train_test_split(X, y, test_size=0.3, random_state=11)\n",
        "print(f\"Training set size: {X_train.shape[0]}\")\n",
        "print(f\"Testing set size: {X_test.shape[0]}\")\n"
      ],
      "metadata": {
        "colab": {
          "base_uri": "https://localhost:8080/"
        },
        "id": "eRu27rc9V69K",
        "outputId": "2d44d37f-371c-4f3e-9183-e32a3a7254e5"
      },
      "execution_count": 18,
      "outputs": [
        {
          "output_type": "stream",
          "name": "stdout",
          "text": [
            "Training set size: 398\n",
            "Testing set size: 171\n"
          ]
        }
      ]
    },
    {
      "cell_type": "code",
      "source": [
        "from sklearn.naive_bayes import GaussianNB\n",
        "nb = GaussianNB()\n",
        "\n",
        "# Training the Model\n",
        "nb.fit(X_train, y_train)\n",
        "\n",
        "# Predicting\n",
        "y_pred = nb.predict(X_test)\n",
        "\n",
        "# Estimator Method Score\n",
        "score = nb.score(X_test, y_test)\n",
        "print(f\"Accuracy of GaussianNB: {score:.4f}\")"
      ],
      "metadata": {
        "colab": {
          "base_uri": "https://localhost:8080/"
        },
        "id": "nE3CYY6rV_1a",
        "outputId": "6b42230a-2e11-43b1-9031-a6d0a77cf660"
      },
      "execution_count": 19,
      "outputs": [
        {
          "output_type": "stream",
          "name": "stdout",
          "text": [
            "Accuracy of GaussianNB: 0.9415\n"
          ]
        }
      ]
    },
    {
      "cell_type": "code",
      "source": [
        "# Confusion Matrix\n",
        "from sklearn.metrics import confusion_matrix\n",
        "conf_matrix = confusion_matrix(y_test, y_pred)\n",
        "print(conf_matrix)\n"
      ],
      "metadata": {
        "colab": {
          "base_uri": "https://localhost:8080/"
        },
        "id": "Xhn8vtW3WMvu",
        "outputId": "c8a5d56d-1ac9-4e05-fd36-9572624cc4d1"
      },
      "execution_count": 24,
      "outputs": [
        {
          "output_type": "stream",
          "name": "stdout",
          "text": [
            "[[ 52   9]\n",
            " [  1 109]]\n"
          ]
        }
      ]
    },
    {
      "cell_type": "code",
      "source": [
        "# Classification Report\n",
        "from sklearn.metrics import classification_report\n",
        "class_report = classification_report(y_test, y_pred, target_names=breast_cancer.target_names)\n",
        "print(f\"Classification Report:\\n{class_report}\")\n"
      ],
      "metadata": {
        "colab": {
          "base_uri": "https://localhost:8080/"
        },
        "id": "Pi6o6tONWOZc",
        "outputId": "1af8bde4-49ba-4552-eead-dabb69957f4d"
      },
      "execution_count": 25,
      "outputs": [
        {
          "output_type": "stream",
          "name": "stdout",
          "text": [
            "Classification Report:\n",
            "              precision    recall  f1-score   support\n",
            "\n",
            "   malignant       0.98      0.85      0.91        61\n",
            "      benign       0.92      0.99      0.96       110\n",
            "\n",
            "    accuracy                           0.94       171\n",
            "   macro avg       0.95      0.92      0.93       171\n",
            "weighted avg       0.94      0.94      0.94       171\n",
            "\n"
          ]
        }
      ]
    },
    {
      "cell_type": "code",
      "source": [
        "import matplotlib.pyplot as plt\n",
        "import seaborn as sns\n",
        "plt.figure(figsize=(8,6))\n",
        "sns.heatmap(conf_matrix, annot=True, fmt='d', cmap='Blues',\n",
        "            xticklabels=breast_cancer.target_names, yticklabels=breast_cancer.target_names)\n",
        "plt.xlabel('Predicted')\n",
        "plt.ylabel('Actual')\n",
        "plt.title('Confusion Matrix for GaussianNB')\n",
        "plt.show()"
      ],
      "metadata": {
        "colab": {
          "base_uri": "https://localhost:8080/",
          "height": 564
        },
        "id": "sCCtlJC4WdqY",
        "outputId": "86a4d662-b463-4fb6-b288-3a1635054ac4"
      },
      "execution_count": 26,
      "outputs": [
        {
          "output_type": "display_data",
          "data": {
            "text/plain": [
              "<Figure size 800x600 with 2 Axes>"
            ],
            "image/png": "[encoded data removed]"
          },
          "metadata": {}
        }
      ]
    },
    {
      "cell_type": "code",
      "source": [
        "from sklearn.model_selection import KFold, cross_val_score\n",
        "kfold = KFold(n_splits=10, random_state=11, shuffle=True)\n",
        "scores = cross_val_score(estimator=nb, X=X, y=y, cv=kfold)\n",
        "print(f\"K-Fold Cross-Validation Scores: {scores}\")\n",
        "print(f\"Mean Accuracy from Cross-Validation: {scores.mean():.4f}\")"
      ],
      "metadata": {
        "colab": {
          "base_uri": "https://localhost:8080/"
        },
        "id": "j71YlFBNWj95",
        "outputId": "d22cbce0-c035-4969-b08d-64f34be3cf8e"
      },
      "execution_count": 27,
      "outputs": [
        {
          "output_type": "stream",
          "name": "stdout",
          "text": [
            "K-Fold Cross-Validation Scores: [0.96491228 0.9122807  0.94736842 0.89473684 0.96491228 0.94736842\n",
            " 0.96491228 0.89473684 0.96491228 0.92857143]\n",
            "Mean Accuracy from Cross-Validation: 0.9385\n"
          ]
        }
      ]
    },
    {
      "cell_type": "code",
      "source": [
        "from sklearn.neighbors import KNeighborsClassifier\n",
        "from sklearn.linear_model import LogisticRegression\n",
        "from sklearn.svm import SVC\n",
        "from sklearn.preprocessing import StandardScaler\n",
        "from sklearn.pipeline import make_pipeline\n",
        "\n",
        "estimators = {\n",
        "    'GaussianNB': GaussianNB(),\n",
        "    'KNeighborsClassifier': KNeighborsClassifier(),\n",
        "    'LogisticRegression': LogisticRegression(solver='lbfgs', multi_class='ovr', max_iter=10000),\n",
        "    'SVC': SVC(gamma='scale')\n",
        "}\n",
        "\n",
        "for name, model in estimators.items():\n",
        "    # Create a pipeline for standard scaling and classification\n",
        "    pipeline = make_pipeline(StandardScaler(), model)\n",
        "\n",
        "    # Train the model\n",
        "    pipeline.fit(X_train, y_train)\n",
        "\n",
        "    # Evaluate the model\n",
        "    score = pipeline.score(X_test, y_test)\n",
        "    print(f\"Accuracy of {name}: {score:.4f}\")\n"
      ],
      "metadata": {
        "colab": {
          "base_uri": "https://localhost:8080/"
        },
        "id": "D5IkCv2kWpxL",
        "outputId": "f0057dea-53ad-4d78-f024-20398c203a92"
      },
      "execution_count": 28,
      "outputs": [
        {
          "output_type": "stream",
          "name": "stdout",
          "text": [
            "Accuracy of GaussianNB: 0.9415\n",
            "Accuracy of KNeighborsClassifier: 0.9649\n",
            "Accuracy of LogisticRegression: 0.9532\n",
            "Accuracy of SVC: 0.9649\n"
          ]
        }
      ]
    },
    {
      "cell_type": "markdown",
      "source": [
        "KNN and SVC have the same level of accuracy."
      ],
      "metadata": {
        "id": "Y1k2NFHSxgtQ"
      }
    },
    {
      "cell_type": "code",
      "source": [
        "# Support Vector Classifier\n",
        "pipeline_svc = make_pipeline(StandardScaler(), SVC(gamma='scale'))\n",
        "pipeline_svc.fit(X_train, y_train)\n",
        "y_pred_svc = pipeline_svc.predict(X_test)\n",
        "print(f\"\\nSupport Vector Classifier Accuracy: {pipeline_svc.score(X_test, y_test):.4f}\")\n",
        "conf_matrix_svc = confusion_matrix(y_test, y_pred_svc)\n",
        "print(f\"Confusion Matrix for SVC:\\n{conf_matrix_svc}\")\n",
        "print(f\"Classification Report for SVC:\\n{classification_report(y_test, y_pred_svc, target_names=breast_cancer.target_names)}\")\n"
      ],
      "metadata": {
        "colab": {
          "base_uri": "https://localhost:8080/"
        },
        "id": "edPmHRJBWxFp",
        "outputId": "d56e5fa7-dfef-4d75-c2fb-c0cf7247b381"
      },
      "execution_count": 29,
      "outputs": [
        {
          "output_type": "stream",
          "name": "stdout",
          "text": [
            "\n",
            "Support Vector Classifier Accuracy: 0.9649\n",
            "Confusion Matrix for SVC:\n",
            "[[ 57   4]\n",
            " [  2 108]]\n",
            "Classification Report for SVC:\n",
            "              precision    recall  f1-score   support\n",
            "\n",
            "   malignant       0.97      0.93      0.95        61\n",
            "      benign       0.96      0.98      0.97       110\n",
            "\n",
            "    accuracy                           0.96       171\n",
            "   macro avg       0.97      0.96      0.96       171\n",
            "weighted avg       0.96      0.96      0.96       171\n",
            "\n"
          ]
        }
      ]
    },
    {
      "cell_type": "code",
      "source": [
        "cross_val_scores_svc = cross_val_score(estimator=pipeline_svc, X=X, y=y, cv=kfold)\n",
        "print(f\"K-Fold Cross-Validation Scores for SVC:\\n{cross_val_scores_svc}\")\n",
        "print(f\"Mean Accuracy from Cross-Validation for SVC: {cross_val_scores_svc.mean():.4f}\")"
      ],
      "metadata": {
        "colab": {
          "base_uri": "https://localhost:8080/"
        },
        "id": "TvWn5GEpW4_i",
        "outputId": "6ce4bc36-6269-435c-e692-ddfad3e82fab"
      },
      "execution_count": 30,
      "outputs": [
        {
          "output_type": "stream",
          "name": "stdout",
          "text": [
            "K-Fold Cross-Validation Scores for SVC:\n",
            "[0.98245614 0.96491228 0.96491228 0.98245614 1.         1.\n",
            " 0.98245614 0.96491228 0.98245614 0.96428571]\n",
            "Mean Accuracy from Cross-Validation for SVC: 0.9789\n"
          ]
        }
      ]
    }
  ]
}